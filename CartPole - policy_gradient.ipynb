{
  "cells": [
    {
      "cell_type": "code",
      "execution_count": 2,
      "metadata": {
        "id": "lQ7VBbchIviY"
      },
      "outputs": [],
      "source": [
        "import os\n",
        "\n",
        "os.environ[\"KERAS_BACKEND\"] = \"tensorflow\"\n",
        "\n",
        "import keras\n",
        "from keras import layers\n",
        "from keras.models import Sequential\n",
        "from keras.layers import Dense\n",
        "from keras.optimizers import Adam\n",
        "\n",
        "import numpy as np\n",
        "import tensorflow as tf\n",
        "import gym\n",
        "import time\n",
        "import matplotlib.pyplot as plt"
      ]
    },
    {
      "cell_type": "code",
      "execution_count": 3,
      "metadata": {
        "colab": {
          "base_uri": "https://localhost:8080/"
        },
        "id": "Dkb9G5fyJQpF",
        "outputId": "ef9a87bf-d759-4caa-c286-624787b443e1"
      },
      "outputs": [
        {
          "name": "stderr",
          "output_type": "stream",
          "text": [
            "c:\\Users\\Gediy\\anaconda3\\envs\\APS1080\\Lib\\site-packages\\gym\\envs\\registration.py:555: UserWarning: \u001b[33mWARN: The environment CartPole-v0 is out of date. You should consider upgrading to version `v1`.\u001b[0m\n",
            "  logger.warn(\n"
          ]
        }
      ],
      "source": [
        "env = gym.make('CartPole-v0')"
      ]
    },
    {
      "cell_type": "code",
      "execution_count": 4,
      "metadata": {
        "colab": {
          "base_uri": "https://localhost:8080/",
          "height": 293
        },
        "id": "ix6V_jKRJeiX",
        "outputId": "39531cec-e58a-40fc-8ba5-3dbd31e29ac4"
      },
      "outputs": [
        {
          "name": "stderr",
          "output_type": "stream",
          "text": [
            "c:\\Users\\Gediy\\anaconda3\\envs\\APS1080\\Lib\\site-packages\\keras\\src\\layers\\core\\dense.py:87: UserWarning: Do not pass an `input_shape`/`input_dim` argument to a layer. When using Sequential models, prefer using an `Input(shape)` object as the first layer in the model instead.\n",
            "  super().__init__(activity_regularizer=activity_regularizer, **kwargs)\n"
          ]
        },
        {
          "data": {
            "text/html": [
              "<pre style=\"white-space:pre;overflow-x:auto;line-height:normal;font-family:Menlo,'DejaVu Sans Mono',consolas,'Courier New',monospace\"><span style=\"font-weight: bold\">Model: \"sequential\"</span>\n",
              "</pre>\n"
            ],
            "text/plain": [
              "\u001b[1mModel: \"sequential\"\u001b[0m\n"
            ]
          },
          "metadata": {},
          "output_type": "display_data"
        },
        {
          "data": {
            "text/html": [
              "<pre style=\"white-space:pre;overflow-x:auto;line-height:normal;font-family:Menlo,'DejaVu Sans Mono',consolas,'Courier New',monospace\">┏━━━━━━━━━━━━━━━━━━━━━━━━━━━━━━━━━┳━━━━━━━━━━━━━━━━━━━━━━━━┳━━━━━━━━━━━━━━━┓\n",
              "┃<span style=\"font-weight: bold\"> Layer (type)                    </span>┃<span style=\"font-weight: bold\"> Output Shape           </span>┃<span style=\"font-weight: bold\">       Param # </span>┃\n",
              "┡━━━━━━━━━━━━━━━━━━━━━━━━━━━━━━━━━╇━━━━━━━━━━━━━━━━━━━━━━━━╇━━━━━━━━━━━━━━━┩\n",
              "│ Layer1 (<span style=\"color: #0087ff; text-decoration-color: #0087ff\">Dense</span>)                  │ (<span style=\"color: #00d7ff; text-decoration-color: #00d7ff\">None</span>, <span style=\"color: #00af00; text-decoration-color: #00af00\">128</span>)            │           <span style=\"color: #00af00; text-decoration-color: #00af00\">640</span> │\n",
              "├─────────────────────────────────┼────────────────────────┼───────────────┤\n",
              "│ Layer3 (<span style=\"color: #0087ff; text-decoration-color: #0087ff\">Dense</span>)                  │ (<span style=\"color: #00d7ff; text-decoration-color: #00d7ff\">None</span>, <span style=\"color: #00af00; text-decoration-color: #00af00\">2</span>)              │           <span style=\"color: #00af00; text-decoration-color: #00af00\">258</span> │\n",
              "└─────────────────────────────────┴────────────────────────┴───────────────┘\n",
              "</pre>\n"
            ],
            "text/plain": [
              "┏━━━━━━━━━━━━━━━━━━━━━━━━━━━━━━━━━┳━━━━━━━━━━━━━━━━━━━━━━━━┳━━━━━━━━━━━━━━━┓\n",
              "┃\u001b[1m \u001b[0m\u001b[1mLayer (type)                   \u001b[0m\u001b[1m \u001b[0m┃\u001b[1m \u001b[0m\u001b[1mOutput Shape          \u001b[0m\u001b[1m \u001b[0m┃\u001b[1m \u001b[0m\u001b[1m      Param #\u001b[0m\u001b[1m \u001b[0m┃\n",
              "┡━━━━━━━━━━━━━━━━━━━━━━━━━━━━━━━━━╇━━━━━━━━━━━━━━━━━━━━━━━━╇━━━━━━━━━━━━━━━┩\n",
              "│ Layer1 (\u001b[38;5;33mDense\u001b[0m)                  │ (\u001b[38;5;45mNone\u001b[0m, \u001b[38;5;34m128\u001b[0m)            │           \u001b[38;5;34m640\u001b[0m │\n",
              "├─────────────────────────────────┼────────────────────────┼───────────────┤\n",
              "│ Layer3 (\u001b[38;5;33mDense\u001b[0m)                  │ (\u001b[38;5;45mNone\u001b[0m, \u001b[38;5;34m2\u001b[0m)              │           \u001b[38;5;34m258\u001b[0m │\n",
              "└─────────────────────────────────┴────────────────────────┴───────────────┘\n"
            ]
          },
          "metadata": {},
          "output_type": "display_data"
        },
        {
          "data": {
            "text/html": [
              "<pre style=\"white-space:pre;overflow-x:auto;line-height:normal;font-family:Menlo,'DejaVu Sans Mono',consolas,'Courier New',monospace\"><span style=\"font-weight: bold\"> Total params: </span><span style=\"color: #00af00; text-decoration-color: #00af00\">898</span> (3.51 KB)\n",
              "</pre>\n"
            ],
            "text/plain": [
              "\u001b[1m Total params: \u001b[0m\u001b[38;5;34m898\u001b[0m (3.51 KB)\n"
            ]
          },
          "metadata": {},
          "output_type": "display_data"
        },
        {
          "data": {
            "text/html": [
              "<pre style=\"white-space:pre;overflow-x:auto;line-height:normal;font-family:Menlo,'DejaVu Sans Mono',consolas,'Courier New',monospace\"><span style=\"font-weight: bold\"> Trainable params: </span><span style=\"color: #00af00; text-decoration-color: #00af00\">898</span> (3.51 KB)\n",
              "</pre>\n"
            ],
            "text/plain": [
              "\u001b[1m Trainable params: \u001b[0m\u001b[38;5;34m898\u001b[0m (3.51 KB)\n"
            ]
          },
          "metadata": {},
          "output_type": "display_data"
        },
        {
          "data": {
            "text/html": [
              "<pre style=\"white-space:pre;overflow-x:auto;line-height:normal;font-family:Menlo,'DejaVu Sans Mono',consolas,'Courier New',monospace\"><span style=\"font-weight: bold\"> Non-trainable params: </span><span style=\"color: #00af00; text-decoration-color: #00af00\">0</span> (0.00 B)\n",
              "</pre>\n"
            ],
            "text/plain": [
              "\u001b[1m Non-trainable params: \u001b[0m\u001b[38;5;34m0\u001b[0m (0.00 B)\n"
            ]
          },
          "metadata": {},
          "output_type": "display_data"
        }
      ],
      "source": [
        "# building a NN  model\n",
        "def build_model(state_size, action_size):\n",
        "    model = Sequential()\n",
        "    model.add(Dense(128, input_dim=state_size, name = \"Layer1\", activation='relu'))\n",
        "    # model.add(Dense(34, name = \"Layer2\", activation='relu'))\n",
        "    model.add(Dense(action_size, name = \"Layer3\", activation='softmax'))\n",
        "\n",
        "    return model\n",
        "\n",
        "p_inputSpace = env.observation_space.shape[0]        # observation space\n",
        "p_outputSpace = env.action_space.n            # action space\n",
        "\n",
        "model = build_model(p_inputSpace, p_outputSpace)\n",
        "model.summary()\n",
        "\n",
        "# f_ppError = keras.losses.MeanSquaredError()\n",
        "optimizer = tf.keras.optimizers.Adam(learning_rate=0.001)"
      ]
    },
    {
      "cell_type": "code",
      "execution_count": 5,
      "metadata": {
        "id": "lCak5oCFEbB8"
      },
      "outputs": [],
      "source": [
        "#test\n",
        "def test():\n",
        "    steps_to_solution = []\n",
        "\n",
        "    for j in range(10):\n",
        "        state = env.reset()\n",
        "        state = state[0]\n",
        "\n",
        "        for i in range(1,50000):\n",
        "            \n",
        "          pi = model.predict(state.reshape(1,env.observation_space.shape[0]), verbose= 0)  # soft-max in action preference\n",
        "          action = np.random.choice(np.arange(env.action_space.n), p = pi[0])\n",
        "\n",
        "          state, reward, done, info, _ = env.step(action)\n",
        "          #print(\"step\",i, \"reward: \", reward,\" state: \", state,\" action=\",action)\n",
        "\n",
        "          if done:\n",
        "              #print (\"done\")\n",
        "              steps_to_solution.append(i)\n",
        "              break\n",
        "\n",
        "    # print(steps_to_solution)\n",
        "    avg_step = np.mean(steps_to_solution)\n",
        "    # print(\"Average steps to solution per 100 episodes: \",avg_step)\n",
        "\n",
        "    # ipythondisplay.clear_output(wait=True)\n",
        "    env.close()\n",
        "    \n",
        "    return avg_step"
      ]
    },
    {
      "cell_type": "code",
      "execution_count": 6,
      "metadata": {
        "id": "NNvV2_10LMDF"
      },
      "outputs": [],
      "source": [
        "def train():\n",
        "  perf_over_time = []\n",
        "\n",
        "  gamma = 1   #discount factor\n",
        "\n",
        "  start_timer = time.time() # starting the timer\n",
        "\n",
        "  episodes = 500    # training episodes\n",
        "  episode = 1       # episode counter\n",
        "\n",
        "  while episode < episodes:\n",
        "    state = env.reset()\n",
        "    state = state[0]\n",
        "    \n",
        "    pi = model.predict(state.reshape(1,env.observation_space.shape[0]), verbose= 0)  # soft-max in action preference\n",
        "    action = np.random.choice(np.arange(env.action_space.n), p = pi[0])\n",
        "\n",
        "    # initializing a list to save the episode's trajectory\n",
        "    episode_trajectory = [[0, state, action]] # starting reward (0) and state-action pair\n",
        "\n",
        "      # generating an episodes using a an epsilon greedy policy\n",
        "    while True:\n",
        "\n",
        "      state, reward, done, info,_ = env.step(action)\n",
        "\n",
        "      if done:\n",
        "        episode_trajectory.append([reward, state, None])\n",
        "        break\n",
        "\n",
        "      \n",
        "      pi = model.predict(state.reshape(1,env.observation_space.shape[0]), verbose= 0)  # soft-max in action preference\n",
        "      action = np.random.choice(np.arange(env.action_space.n), p = pi[0]) #action selection based on the soft-max in action preference\n",
        "\n",
        "      episode_trajectory.append([reward, state, action])\n",
        "\n",
        "\n",
        "    for t in range(len(episode_trajectory)-1): # loop througn t= 0, 1 ... , T-1\n",
        "      G = sum([(gamma**(k-t-1)) * episode_trajectory[k][0] for k in range(t+1,len(episode_trajectory))])\n",
        "\n",
        "      s_t = episode_trajectory[t][1]\n",
        "      a_t = episode_trajectory[t][2]\n",
        "\n",
        "      with tf.GradientTape() as tape:\n",
        "          prediction = model(s_t.reshape(1,env.observation_space.shape[0]),training=True)\n",
        "          selected_action_prob = prediction[0][a_t]     # the probability of selecting action a_t at time step t due to the parametrized policy\n",
        "          loss = tf.math.log(selected_action_prob)\n",
        "          \n",
        "\n",
        "      grads = tape.gradient(loss,model.trainable_weights) # obtaining the gradient \n",
        "      \n",
        "      # Modify the gradients\n",
        "      scaled_grads = [ -G * (gamma**t) * grad for grad in grads]\n",
        "      optimizer.apply_gradients(zip(scaled_grads, model.trainable_weights))\n",
        "      \n",
        "      \n",
        "    episode += 1\n",
        "    if episode % 10 == 0:\n",
        "        end_timer = time.time()\n",
        "        timer = end_timer - start_timer\n",
        "        elapsed_time_struct = time.gmtime(timer)\n",
        "        formatted_time = time.strftime(\"%H:%M:%S\", elapsed_time_struct)\n",
        "        performance = test() # caluclate avg performance per 100 episodes\n",
        "        print(\"Episode: \",episode, \" time: \", formatted_time, \" Performance: \", performance)\n",
        "        perf_over_time.append([episode,performance])\n",
        "        if performance >= 200:\n",
        "            return perf_over_time\n",
        "\n",
        "    if episode == episodes:\n",
        "        print(\"done!\")\n",
        "        \n",
        "  return perf_over_time\n"
      ]
    },
    {
      "cell_type": "code",
      "execution_count": 7,
      "metadata": {},
      "outputs": [
        {
          "name": "stderr",
          "output_type": "stream",
          "text": [
            "c:\\Users\\Gediy\\anaconda3\\envs\\APS1080\\Lib\\site-packages\\gym\\utils\\passive_env_checker.py:233: DeprecationWarning: `np.bool8` is a deprecated alias for `np.bool_`.  (Deprecated NumPy 1.24)\n",
            "  if not isinstance(terminated, (bool, np.bool8)):\n"
          ]
        },
        {
          "name": "stdout",
          "output_type": "stream",
          "text": [
            "Episode:  10  time:  00:00:22  Performance:  53.6\n",
            "Episode:  20  time:  00:01:11  Performance:  44.7\n",
            "Episode:  30  time:  00:02:01  Performance:  99.8\n",
            "Episode:  40  time:  00:03:32  Performance:  116.7\n",
            "Episode:  50  time:  00:05:43  Performance:  113.5\n",
            "Episode:  60  time:  00:07:37  Performance:  166.0\n",
            "Episode:  70  time:  00:10:06  Performance:  157.1\n",
            "Episode:  80  time:  00:12:31  Performance:  125.9\n",
            "Episode:  90  time:  00:14:56  Performance:  110.1\n",
            "Episode:  100  time:  00:16:58  Performance:  153.8\n",
            "Episode:  110  time:  00:19:22  Performance:  148.6\n",
            "Episode:  120  time:  00:21:52  Performance:  203.5\n"
          ]
        },
        {
          "data": {
            "image/png": "[encoded data removed]",
            "text/plain": [
              "<Figure size 640x480 with 1 Axes>"
            ]
          },
          "metadata": {},
          "output_type": "display_data"
        }
      ],
      "source": [
        "training_performance = train()\n",
        "\n",
        "# saving the weights\n",
        "model.save_weights('policy_gradient_model_v0_10k.weights.h5')\n",
        "\n",
        "x,y = zip(*training_performance)\n",
        "\n",
        "plt.plot(x,y, marker='o')\n",
        "# Add labels and title\n",
        "plt.xlabel('Training episode')\n",
        "plt.ylabel('Avg. performance per 100 runs')\n",
        "plt.title('Performance over training episodes')\n",
        "\n",
        "# Display the plot\n",
        "plt.show()"
      ]
    },
    {
      "cell_type": "code",
      "execution_count": 8,
      "metadata": {},
      "outputs": [
        {
          "name": "stdout",
          "output_type": "stream",
          "text": [
            "step 1 reward:  1.0  state:  [-0.01201085 -0.16031738  0.04529056  0.27991563]  action= 0\n",
            "step 2 reward:  1.0  state:  [-0.0152172  -0.35605514  0.05088888  0.58653206]  action= 0\n",
            "step 3 reward:  1.0  state:  [-0.0223383  -0.5518515   0.06261951  0.8948013 ]  action= 0\n",
            "step 4 reward:  1.0  state:  [-0.03337533 -0.35763204  0.08051554  0.6224412 ]  action= 1\n",
            "step 5 reward:  1.0  state:  [-0.04052797 -0.5537805   0.09296437  0.9393567 ]  action= 0\n",
            "step 6 reward:  1.0  state:  [-0.05160358 -0.36002636  0.1117515   0.6772727 ]  action= 1\n",
            "step 7 reward:  1.0  state:  [-0.05880411 -0.16661988  0.12529695  0.42175913]  action= 1\n",
            "step 8 reward:  1.0  state:  [-0.0621365   0.02652485  0.13373214  0.17105423]  action= 1\n",
            "step 9 reward:  1.0  state:  [-0.06160601  0.21950445  0.13715322 -0.07663038]  action= 1\n",
            "step 10 reward:  1.0  state:  [-0.05721592  0.02271006  0.13562061  0.2559859 ]  action= 0\n",
            "step 11 reward:  1.0  state:  [-0.05676172  0.21566132  0.14074033  0.00896696]  action= 1\n",
            "step 12 reward:  1.0  state:  [-0.05244849  0.40851375  0.14091967 -0.23621021]  action= 1\n",
            "step 13 reward:  1.0  state:  [-0.04427822  0.60137063  0.13619547 -0.4813345 ]  action= 1\n",
            "step 14 reward:  1.0  state:  [-0.03225081  0.40461558  0.12656878 -0.14901717]  action= 0\n",
            "step 15 reward:  1.0  state:  [-0.02415849  0.59771925  0.12358844 -0.39924374]  action= 1\n",
            "step 16 reward:  1.0  state:  [-0.01220411  0.7908911   0.11560356 -0.65054893]  action= 1\n",
            "step 17 reward:  1.0  state:  [ 0.00361371  0.9842293   0.10259258 -0.9047087 ]  action= 1\n",
            "step 18 reward:  1.0  state:  [ 0.0232983   0.7878788   0.08449841 -0.5816222 ]  action= 0\n",
            "step 19 reward:  1.0  state:  [ 0.03905588  0.9817215   0.07286596 -0.84653586]  action= 1\n",
            "step 20 reward:  1.0  state:  [ 0.05869031  0.7856852   0.05593525 -0.531858  ]  action= 0\n",
            "step 21 reward:  1.0  state:  [ 0.07440401  0.5898229   0.04529809 -0.22208771]  action= 0\n",
            "step 22 reward:  1.0  state:  [0.08620047 0.39408377 0.04085633 0.08453292]  action= 0\n",
            "step 23 reward:  1.0  state:  [ 0.09408214  0.58859694  0.04254699 -0.19498499]  action= 1\n",
            "step 24 reward:  1.0  state:  [ 0.10585408  0.7830853   0.03864729 -0.47394842]  action= 1\n",
            "step 25 reward:  1.0  state:  [ 0.12151579  0.5874395   0.02916832 -0.16933936]  action= 0\n",
            "step 26 reward:  1.0  state:  [ 0.13326457  0.782132    0.02578153 -0.45267972]  action= 1\n",
            "step 27 reward:  1.0  state:  [ 0.14890721  0.9768801   0.01672794 -0.7371258 ]  action= 1\n",
            "step 28 reward:  1.0  state:  [ 0.16844483  1.1717671   0.00198543 -1.0244975 ]  action= 1\n",
            "step 29 reward:  1.0  state:  [ 0.19188017  0.9766187  -0.01850453 -0.73119193]  action= 0\n",
            "step 30 reward:  1.0  state:  [ 0.21141253  1.1719915  -0.03312837 -1.0296409 ]  action= 1\n",
            "step 31 reward:  1.0  state:  [ 0.23485236  0.9773256  -0.05372118 -0.7475403 ]  action= 0\n",
            "step 32 reward:  1.0  state:  [ 0.25439888  0.7829844  -0.06867199 -0.47223538]  action= 0\n",
            "step 33 reward:  1.0  state:  [ 0.27005857  0.5888961  -0.07811669 -0.2019629 ]  action= 0\n",
            "step 34 reward:  1.0  state:  [ 0.28183648  0.39497322 -0.08215595  0.06509141]  action= 0\n",
            "step 35 reward:  1.0  state:  [ 0.28973594  0.20111941 -0.08085413  0.33076468]  action= 0\n",
            "step 36 reward:  1.0  state:  [ 0.29375833  0.39729363 -0.07423883  0.01371947]  action= 1\n",
            "step 37 reward:  1.0  state:  [ 0.30170423  0.20331052 -0.07396444  0.28208646]  action= 0\n",
            "step 38 reward:  1.0  state:  [ 0.30577043  0.00931725 -0.06832271  0.55055505]  action= 0\n",
            "step 39 reward:  1.0  state:  [ 0.30595678 -0.1847819  -0.05731161  0.82095325]  action= 0\n",
            "step 40 reward:  1.0  state:  [ 0.30226114 -0.37907472 -0.04089255  1.0950736 ]  action= 0\n",
            "step 41 reward:  1.0  state:  [ 0.29467964 -0.18343873 -0.01899107  0.7898459 ]  action= 1\n",
            "step 42 reward:  1.0  state:  [ 0.29101086  0.0119388  -0.00319416  0.49124938]  action= 1\n",
            "step 43 reward:  1.0  state:  [ 0.29124963 -0.18313795  0.00663083  0.78292394]  action= 0\n",
            "step 44 reward:  1.0  state:  [0.28758687 0.01189225 0.02228931 0.4923345 ]  action= 1\n",
            "step 45 reward:  1.0  state:  [0.28782472 0.20669283 0.032136   0.20675872]  action= 1\n",
            "step 46 reward:  1.0  state:  [ 0.29195857  0.40134087  0.03627117 -0.0756162 ]  action= 1\n",
            "step 47 reward:  1.0  state:  [ 0.2999854   0.59592456  0.03475885 -0.3566384 ]  action= 1\n",
            "step 48 reward:  1.0  state:  [ 0.3119039   0.79053557  0.02762608 -0.6381615 ]  action= 1\n",
            "step 49 reward:  1.0  state:  [ 0.3277146   0.9852616   0.01486285 -0.9220181 ]  action= 1\n",
            "step 50 reward:  1.0  state:  [ 0.34741983  0.789942   -0.00357751 -0.62470156]  action= 0\n",
            "step 51 reward:  1.0  state:  [ 0.36321867  0.5948702  -0.01607154 -0.33314747]  action= 0\n",
            "step 52 reward:  1.0  state:  [ 0.37511608  0.79021716 -0.02273449 -0.6308549 ]  action= 1\n",
            "step 53 reward:  1.0  state:  [ 0.39092043  0.59541965 -0.03535159 -0.34541756]  action= 0\n",
            "step 54 reward:  1.0  state:  [ 0.4028288   0.40081796 -0.04225994 -0.06408858]  action= 0\n",
            "step 55 reward:  1.0  state:  [ 0.41084516  0.20632659 -0.04354171  0.21496728]  action= 0\n",
            "step 56 reward:  1.0  state:  [ 0.4149717   0.01185331 -0.03924236  0.49360353]  action= 0\n",
            "step 57 reward:  1.0  state:  [ 0.41520876 -0.18269384 -0.02937029  0.7736653 ]  action= 0\n",
            "step 58 reward:  1.0  state:  [ 0.4115549  -0.37739968 -0.01389699  1.0569645 ]  action= 0\n",
            "step 59 reward:  1.0  state:  [ 0.4040069  -0.18209636  0.0072423   0.7599522 ]  action= 1\n",
            "step 60 reward:  1.0  state:  [0.40036497 0.01292506 0.02244134 0.46955693]  action= 1\n",
            "step 61 reward:  1.0  state:  [0.40062347 0.20772292 0.03183248 0.1840309 ]  action= 1\n",
            "step 62 reward:  1.0  state:  [ 0.40477794  0.40237528  0.0355131  -0.09844254]  action= 1\n",
            "step 63 reward:  1.0  state:  [0.41282544 0.20676284 0.03354425 0.20522979]  action= 0\n",
            "step 64 reward:  1.0  state:  [0.4169607  0.01117764 0.03764885 0.5083027 ]  action= 0\n",
            "step 65 reward:  1.0  state:  [0.41718423 0.20574948 0.0478149  0.2277179 ]  action= 1\n",
            "step 66 reward:  1.0  state:  [ 0.42129925  0.40015665  0.05236926 -0.04950736]  action= 1\n",
            "step 67 reward:  1.0  state:  [0.42930236 0.20432442 0.05137911 0.2592278 ]  action= 0\n",
            "step 68 reward:  1.0  state:  [ 0.43338886  0.39867666  0.05656367 -0.01681705]  action= 1\n",
            "step 69 reward:  1.0  state:  [ 0.44136238  0.5929437   0.05622733 -0.29113075]  action= 1\n",
            "step 70 reward:  1.0  state:  [0.45322126 0.397067   0.05040471 0.01874213]  action= 0\n",
            "step 71 reward:  1.0  state:  [ 0.4611626   0.5914312   0.05077955 -0.2576212 ]  action= 1\n",
            "step 72 reward:  1.0  state:  [0.47299123 0.39562246 0.04562713 0.05063611]  action= 0\n",
            "step 73 reward:  1.0  state:  [0.48090369 0.19987698 0.04663985 0.3573585 ]  action= 0\n",
            "step 74 reward:  1.0  state:  [0.48490122 0.39430588 0.05378702 0.07973939]  action= 1\n",
            "step 75 reward:  1.0  state:  [ 0.49278733  0.5886172   0.05538181 -0.19550027]  action= 1\n",
            "step 76 reward:  1.0  state:  [ 0.5045597   0.78290504  0.0514718  -0.47021127]  action= 1\n",
            "step 77 reward:  1.0  state:  [ 0.5202178   0.5870952   0.04206758 -0.16175951]  action= 0\n",
            "step 78 reward:  1.0  state:  [0.5319597  0.39139706 0.03883239 0.14389223]  action= 0\n",
            "step 79 reward:  1.0  state:  [ 0.53978765  0.585942    0.04171023 -0.13629131]  action= 1\n",
            "step 80 reward:  1.0  state:  [ 0.55150646  0.7804425   0.03898441 -0.415529  ]  action= 1\n",
            "step 81 reward:  1.0  state:  [ 0.5671153   0.5847903   0.03067383 -0.11081523]  action= 0\n",
            "step 82 reward:  1.0  state:  [ 0.5788111   0.7794596   0.02845752 -0.3936651 ]  action= 1\n",
            "step 83 reward:  1.0  state:  [ 0.5944003   0.58394563  0.02058422 -0.09214752]  action= 0\n",
            "step 84 reward:  1.0  state:  [0.6060792  0.38853475 0.01874127 0.20695798]  action= 0\n",
            "step 85 reward:  1.0  state:  [ 0.61384994  0.5833838   0.02288043 -0.0797546 ]  action= 1\n",
            "step 86 reward:  1.0  state:  [ 0.6255176   0.7781704   0.02128534 -0.36513177]  action= 1\n",
            "step 87 reward:  1.0  state:  [ 0.641081    0.5827525   0.0139827  -0.06581394]  action= 0\n",
            "step 88 reward:  1.0  state:  [ 0.65273607  0.7776712   0.01266642 -0.35405266]  action= 1\n",
            "step 89 reward:  1.0  state:  [ 0.6682895   0.5823715   0.00558537 -0.05740271]  action= 0\n",
            "step 90 reward:  1.0  state:  [ 0.6799369   0.7774129   0.00443731 -0.3483182 ]  action= 1\n",
            "step 91 reward:  1.0  state:  [ 0.6954852   0.5822281  -0.00252905 -0.05423934]  action= 0\n",
            "step 92 reward:  1.0  state:  [ 0.7071297   0.77738625 -0.00361384 -0.34771913]  action= 1\n",
            "step 93 reward:  1.0  state:  [ 0.72267747  0.58231586 -0.01056822 -0.05617795]  action= 0\n",
            "step 94 reward:  1.0  state:  [ 0.7343238   0.7775878  -0.01169178 -0.3521764 ]  action= 1\n",
            "step 95 reward:  1.0  state:  [ 0.74987555  0.972874   -0.01873531 -0.64852303]  action= 1\n",
            "step 96 reward:  1.0  state:  [ 0.769333    0.778018   -0.03170577 -0.3617982 ]  action= 0\n",
            "step 97 reward:  1.0  state:  [ 0.7848934   0.9735759  -0.03894173 -0.6643076 ]  action= 1\n",
            "step 98 reward:  1.0  state:  [ 0.80436486  0.7790167  -0.05222788 -0.384136  ]  action= 0\n",
            "step 99 reward:  1.0  state:  [ 0.8199452   0.58467364 -0.0599106  -0.10836694]  action= 0\n",
            "step 100 reward:  1.0  state:  [ 0.8316387   0.78060067 -0.06207794 -0.4193334 ]  action= 1\n",
            "step 101 reward:  1.0  state:  [ 0.8472507   0.58641076 -0.07046461 -0.1468488 ]  action= 0\n",
            "step 102 reward:  1.0  state:  [ 0.8589789   0.39236495 -0.07340159  0.12279816]  action= 0\n",
            "step 103 reward:  1.0  state:  [ 0.86682624  0.5884576  -0.07094562 -0.19210944]  action= 1\n",
            "step 104 reward:  1.0  state:  [ 0.87859535  0.39441845 -0.07478781  0.07737653]  action= 0\n",
            "step 105 reward:  1.0  state:  [ 0.8864837   0.20044386 -0.07324028  0.34555796]  action= 0\n",
            "step 106 reward:  1.0  state:  [ 0.8904926   0.00643603 -0.06632912  0.6142762 ]  action= 0\n",
            "step 107 reward:  1.0  state:  [ 0.89062136 -0.18769945 -0.0540436   0.88535255]  action= 0\n",
            "step 108 reward:  1.0  state:  [ 0.88686734 -0.38204765 -0.03633655  1.1605681 ]  action= 0\n",
            "step 109 reward:  1.0  state:  [ 0.8792264  -0.18647167 -0.01312518  0.8567172 ]  action= 1\n",
            "step 110 reward:  1.0  state:  [0.875497   0.00882663 0.00400916 0.55993634]  action= 1\n",
            "step 111 reward:  1.0  state:  [ 0.8756735  -0.18635136  0.01520789  0.85387963]  action= 0\n",
            "step 112 reward:  1.0  state:  [0.87194645 0.00856004 0.03228548 0.56601727]  action= 1\n",
            "step 113 reward:  1.0  state:  [0.87211764 0.20321454 0.04360583 0.283678  ]  action= 1\n",
            "step 114 reward:  1.0  state:  [0.87618196 0.3976883  0.04927938 0.0050607 ]  action= 1\n",
            "step 115 reward:  1.0  state:  [ 0.8841357   0.59207016  0.0493806  -0.27167583]  action= 1\n",
            "step 116 reward:  1.0  state:  [0.89597714 0.3962796  0.04394708 0.03616397]  action= 0\n",
            "step 117 reward:  1.0  state:  [ 0.9039027   0.5907447   0.04467036 -0.24233574]  action= 1\n",
            "step 118 reward:  1.0  state:  [0.9157176  0.39501408 0.03982365 0.06409603]  action= 0\n",
            "step 119 reward:  1.0  state:  [ 0.9236179   0.5895431   0.04110557 -0.2157611 ]  action= 1\n",
            "step 120 reward:  1.0  state:  [0.9354088  0.39385834 0.03679034 0.08959973]  action= 0\n",
            "step 121 reward:  1.0  state:  [ 0.94328594  0.58843416  0.03858234 -0.19125259]  action= 1\n",
            "step 122 reward:  1.0  state:  [0.9550546  0.39278212 0.03475729 0.11334748]  action= 0\n",
            "step 123 reward:  1.0  state:  [ 0.96291023  0.58738923  0.03702424 -0.16817032]  action= 1\n",
            "step 124 reward:  1.0  state:  [0.974658   0.39175743 0.03366083 0.13595894]  action= 0\n",
            "step 125 reward:  1.0  state:  [0.98249316 0.19616991 0.03638001 0.43906844]  action= 0\n",
            "step 126 reward:  1.0  state:  [0.9864166  0.39075857 0.04516138 0.15807192]  action= 1\n",
            "step 127 reward:  1.0  state:  [ 0.99423176  0.58520585  0.04832282 -0.12002864]  action= 1\n",
            "step 128 reward:  1.0  state:  [1.0059359  0.38942605 0.04592225 0.18749963]  action= 0\n",
            "step 129 reward:  1.0  state:  [ 1.0137244   0.58386195  0.04967224 -0.09035033]  action= 1\n",
            "step 130 reward:  1.0  state:  [1.0254016  0.3880645  0.04786523 0.21758121]  action= 0\n",
            "step 131 reward:  1.0  state:  [ 1.033163    0.58247066  0.05221685 -0.05962707]  action= 1\n",
            "step 132 reward:  1.0  state:  [1.0448123  0.38664043 0.05102431 0.2490627 ]  action= 0\n",
            "step 133 reward:  1.0  state:  [1.0525452  0.19082834 0.05600557 0.5573932 ]  action= 0\n",
            "step 134 reward:  1.0  state:  [ 1.0563617  -0.00503326  0.06715343  0.867182  ]  action= 0\n",
            "step 135 reward:  1.0  state:  [1.0562611  0.18911377 0.08449707 0.59634614]  action= 1\n",
            "step 136 reward:  1.0  state:  [1.0600433  0.38295794 0.096424   0.33142987]  action= 1\n",
            "step 137 reward:  1.0  state:  [1.0677025  0.18660516 0.10305259 0.6528956 ]  action= 0\n",
            "step 138 reward:  1.0  state:  [1.0714346  0.38015252 0.1161105  0.39435863]  action= 1\n",
            "step 139 reward:  1.0  state:  [1.0790377  0.18359092 0.12399768 0.7212756 ]  action= 0\n",
            "step 140 reward:  1.0  state:  [1.0827094  0.37679926 0.13842319 0.47005025]  action= 1\n",
            "step 141 reward:  1.0  state:  [1.0902455  0.5697223  0.1478242  0.22400035]  action= 1\n",
            "step 142 reward:  1.0  state:  [ 1.1016399   0.76245624  0.1523042  -0.01864543]  action= 1\n",
            "step 143 reward:  1.0  state:  [ 1.116889    0.95510316  0.1519313  -0.25966617]  action= 1\n",
            "step 144 reward:  1.0  state:  [ 1.1359911   1.1477666   0.14673798 -0.50083613]  action= 1\n",
            "step 145 reward:  1.0  state:  [ 1.1589464   0.95091397  0.13672125 -0.16574422]  action= 0\n",
            "step 146 reward:  1.0  state:  [ 1.1779647   1.1438409   0.13340636 -0.41236314]  action= 1\n",
            "step 147 reward:  1.0  state:  [ 1.2008415  1.3368444  0.1251591 -0.6601908]  action= 1\n",
            "step 148 reward:  1.0  state:  [ 1.2275784   1.530023    0.11195529 -0.9109912 ]  action= 1\n",
            "step 149 reward:  1.0  state:  [ 1.2581788   1.7234664   0.09373546 -1.1664938 ]  action= 1\n",
            "step 150 reward:  1.0  state:  [ 1.2926482   1.917252    0.07040559 -1.4283781 ]  action= 1\n",
            "step 151 reward:  1.0  state:  [ 1.3309932   2.1114373   0.04183802 -1.6982522 ]  action= 1\n",
            "step 152 reward:  1.0  state:  [ 1.373222    1.9158587   0.00787298 -1.3928443 ]  action= 0\n",
            "step 153 reward:  1.0  state:  [ 1.4115391   2.1108818  -0.01998391 -1.6830553 ]  action= 1\n",
            "step 154 reward:  1.0  state:  [ 1.4537568   1.9159968  -0.05364501 -1.396661  ]  action= 0\n",
            "step 155 reward:  1.0  state:  [ 1.4920768   1.7215816  -0.08157823 -1.1212218 ]  action= 0\n",
            "step 156 reward:  1.0  state:  [ 1.5265083   1.5276188  -0.10400267 -0.8552025 ]  action= 0\n",
            "step 157 reward:  1.0  state:  [ 1.5570607   1.3340561  -0.12110672 -0.59694916]  action= 0\n",
            "step 158 reward:  1.0  state:  [ 1.5837418  1.1408185 -0.1330457 -0.3447341]  action= 0\n",
            "step 159 reward:  1.0  state:  [ 1.6065582   0.9478153  -0.13994038 -0.09678797]  action= 0\n",
            "step 160 reward:  1.0  state:  [ 1.6255145   0.7549475  -0.14187615  0.1486773 ]  action= 0\n",
            "step 161 reward:  1.0  state:  [ 1.6406134  0.5621121 -0.1389026  0.3934523]  action= 0\n",
            "step 162 reward:  1.0  state:  [ 1.6518557   0.7589037  -0.13103355  0.06040188]  action= 1\n",
            "step 163 reward:  1.0  state:  [ 1.6670338   0.95563716 -0.12982552 -0.27058232]  action= 1\n",
            "step 164 reward:  1.0  state:  [ 1.6861465   0.7625838  -0.13523716 -0.02150074]  action= 0\n",
            "step 165 reward:  1.0  state:  [ 1.7013983   0.5696343  -0.13566718  0.22564214]  action= 0\n",
            "step 166 reward:  1.0  state:  [ 1.7127908   0.3766858  -0.13115433  0.47264162]  action= 0\n",
            "step 167 reward:  1.0  state:  [ 1.7203246   0.18363638 -0.1217015   0.72127986]  action= 0\n",
            "step 168 reward:  1.0  state:  [ 1.7239974  -0.00961059 -0.1072759   0.9733143 ]  action= 0\n",
            "step 169 reward:  1.0  state:  [ 1.7238051  -0.20314243 -0.08780961  1.2304646 ]  action= 0\n",
            "step 170 reward:  1.0  state:  [ 1.7197423  -0.39703196 -0.06320032  1.4943955 ]  action= 0\n",
            "step 171 reward:  1.0  state:  [ 1.7118016  -0.2012008  -0.03331241  1.1826667 ]  action= 1\n",
            "step 172 reward:  1.0  state:  [ 1.7077776  -0.00566278 -0.00965908  0.87973034]  action= 1\n",
            "step 173 reward:  1.0  state:  [1.7076644  0.18958907 0.00793553 0.5840265 ]  action= 1\n",
            "step 174 reward:  1.0  state:  [1.7114562  0.38459897 0.01961606 0.29385394]  action= 1\n",
            "step 175 reward:  1.0  state:  [1.7191482  0.1892029  0.02549314 0.59265834]  action= 0\n",
            "step 176 reward:  1.0  state:  [1.7229322  0.38395888 0.0373463  0.3081135 ]  action= 1\n",
            "step 177 reward:  1.0  state:  [1.7306113  0.18832524 0.04350857 0.6123366 ]  action= 0\n",
            "step 178 reward:  1.0  state:  [1.7343779  0.382813   0.0557553  0.33366853]  action= 1\n",
            "step 179 reward:  1.0  state:  [1.7420341  0.5770989  0.06242868 0.05907611]  action= 1\n",
            "step 180 reward:  1.0  state:  [1.753576   0.38113996 0.0636102  0.37078398]  action= 0\n",
            "step 181 reward:  1.0  state:  [1.7611989  0.57530326 0.07102588 0.09881692]  action= 1\n",
            "step 182 reward:  1.0  state:  [ 1.772705    0.76933914  0.07300221 -0.1706391 ]  action= 1\n",
            "step 183 reward:  1.0  state:  [1.7880918  0.5732524  0.06958944 0.14415127]  action= 0\n",
            "step 184 reward:  1.0  state:  [ 1.7995567   0.7673123   0.07247246 -0.12579127]  action= 1\n",
            "step 185 reward:  1.0  state:  [ 1.814903    0.9613252   0.06995663 -0.39475846]  action= 1\n",
            "step 186 reward:  1.0  state:  [ 1.8341296   0.76528394  0.06206146 -0.08086537]  action= 0\n",
            "step 187 reward:  1.0  state:  [1.8494352  0.5693298  0.06044416 0.23073436]  action= 0\n",
            "step 188 reward:  1.0  state:  [1.8608218  0.37339854 0.06505884 0.54185426]  action= 0\n",
            "step 189 reward:  1.0  state:  [1.8682898  0.56754863 0.07589593 0.27035904]  action= 1\n",
            "step 190 reward:  1.0  state:  [1.8796407  0.37143034 0.08130311 0.58598167]  action= 0\n",
            "step 191 reward:  1.0  state:  [1.8870693  0.565325   0.09302274 0.3199771 ]  action= 1\n",
            "step 192 reward:  1.0  state:  [1.8983759  0.7590076  0.09942228 0.05801863]  action= 1\n",
            "step 193 reward:  1.0  state:  [ 1.913556    0.95257384  0.10058266 -0.20171489]  action= 1\n",
            "step 194 reward:  1.0  state:  [ 1.9326075   1.1461242   0.09654836 -0.46105158]  action= 1\n",
            "step 195 reward:  1.0  state:  [ 1.9555299   0.9497797   0.08732733 -0.1395653 ]  action= 0\n",
            "step 196 reward:  1.0  state:  [1.9745256  0.7535226  0.08453602 0.17934018]  action= 0\n",
            "step 197 reward:  1.0  state:  [ 1.989596    0.9473395   0.08812283 -0.08552296]  action= 1\n",
            "step 198 reward:  1.0  state:  [ 2.0085428   1.1410949   0.08641237 -0.34915388]  action= 1\n",
            "step 199 reward:  1.0  state:  [ 2.0313647   1.3348885   0.07942929 -0.6133858 ]  action= 1\n",
            "step 200 reward:  1.0  state:  [ 2.0580626   1.5288159   0.06716157 -0.8800321 ]  action= 1\n",
            "step 201 reward:  1.0  state:  [ 2.0886388   1.3328489   0.04956093 -0.56701374]  action= 0\n",
            "step 202 reward:  1.0  state:  [ 2.115296    1.137068    0.03822066 -0.25913805]  action= 0\n",
            "step 203 reward:  1.0  state:  [ 2.1380372   1.331624    0.0330379  -0.53952485]  action= 1\n",
            "step 204 reward:  1.0  state:  [ 2.1646695   1.1360537   0.0222474  -0.23661795]  action= 0\n",
            "step 205 reward:  1.0  state:  [ 2.1873906   1.3308508   0.01751504 -0.5222012 ]  action= 1\n",
            "step 206 reward:  1.0  state:  [ 2.2140076   1.1354867   0.00707101 -0.22405091]  action= 0\n",
            "step 207 reward:  1.0  state:  [ 2.2367175  1.3305069  0.00259   -0.514495 ]  action= 1\n",
            "step 208 reward:  1.0  state:  [ 2.2633276   1.5255923  -0.0076999  -0.80636066]  action= 1\n",
            "step 209 reward:  1.0  state:  [ 2.2938395   1.720819   -0.02382712 -1.1014557 ]  action= 1\n",
            "step 210 reward:  1.0  state:  [ 2.328256    1.9162462  -0.04585623 -1.4015177 ]  action= 1\n",
            "step 211 reward:  1.0  state:  [ 2.3665807   1.721723   -0.07388659 -1.1235168 ]  action= 0\n",
            "step 212 reward:  1.0  state:  [ 2.4010153   1.5276433  -0.09635692 -0.85489446]  action= 0\n",
            "done\n"
          ]
        }
      ],
      "source": [
        "state = env.reset()\n",
        "state = state[0]\n",
        "\n",
        "for i in range(1,500):\n",
        "    \n",
        "    pi = model.predict(state.reshape(1,env.observation_space.shape[0]), verbose= 0)  # soft-max in action preference\n",
        "    action = np.random.choice(np.arange(env.action_space.n), p = pi[0])\n",
        "\n",
        "    state, reward, done, info, _ = env.step(action)\n",
        "    print(\"step\",i, \"reward: \", reward,\" state: \", state,\" action=\",action)\n",
        "\n",
        "    if done:\n",
        "        print (\"done\")\n",
        "        break"
      ]
    }
  ],
  "metadata": {
    "colab": {
      "provenance": []
    },
    "kernelspec": {
      "display_name": "Python 3",
      "name": "python3"
    },
    "language_info": {
      "codemirror_mode": {
        "name": "ipython",
        "version": 3
      },
      "file_extension": ".py",
      "mimetype": "text/x-python",
      "name": "python",
      "nbconvert_exporter": "python",
      "pygments_lexer": "ipython3",
      "version": "3.12.3"
    }
  },
  "nbformat": 4,
  "nbformat_minor": 0
}
