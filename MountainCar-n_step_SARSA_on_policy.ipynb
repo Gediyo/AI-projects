{
  "cells": [
    {
      "cell_type": "markdown",
      "metadata": {
        "id": "l_8sLavH30wD"
      },
      "source": [
        "@author Gediyon M. Girma\n",
        "\n",
        "TD(n) n-step SARSA on-policy method for MountainCar-V0 environment"
      ]
    },
    {
      "cell_type": "code",
      "execution_count": 1,
      "metadata": {
        "colab": {
          "base_uri": "https://localhost:8080/"
        },
        "id": "vNCwIFKd3gAr",
        "outputId": "68feac22-a232-4a46-c318-91e54f02d967"
      },
      "outputs": [
        {
          "name": "stderr",
          "output_type": "stream",
          "text": [
            "/usr/local/lib/python3.10/dist-packages/gym/core.py:317: DeprecationWarning: \u001b[33mWARN: Initializing wrapper in old step API which returns one bool instead of two. It is recommended to set `new_step_api=True` to use new step API. This will be the default behaviour in future.\u001b[0m\n",
            "  deprecation(\n",
            "/usr/local/lib/python3.10/dist-packages/gym/wrappers/step_api_compatibility.py:39: DeprecationWarning: \u001b[33mWARN: Initializing environment in old step API which returns one bool instead of two. It is recommended to set `new_step_api=True` to use new step API. This will be the default behaviour in future.\u001b[0m\n",
            "  deprecation(\n"
          ]
        }
      ],
      "source": [
        "import gym\n",
        "import time\n",
        "import itertools\n",
        "import random\n",
        "import numpy as np\n",
        "env = gym.make('MountainCar-v0')"
      ]
    },
    {
      "cell_type": "code",
      "execution_count": 2,
      "metadata": {
        "id": "LUnyVi0j3-1M"
      },
      "outputs": [],
      "source": [
        "bins = (30, 30)\n",
        "\n",
        "def discretize_observation(observation):\n",
        "  \"\"\"\n",
        "  Discretizes the observation space.\n",
        "\n",
        "  Args:\n",
        "    observation: The observation to discretize.\n",
        "\n",
        "  Returns:\n",
        "    The discretized observation.\n",
        "  \"\"\"\n",
        "\n",
        "\n",
        "  low = env.observation_space.low\n",
        "  high = env.observation_space.high\n",
        "\n",
        "  return tuple(np.digitize(observation[i], np.linspace(low[i], high[i], bins[i] + 1)) - 1 for i in range(2))"
      ]
    },
    {
      "cell_type": "code",
      "execution_count": 3,
      "metadata": {
        "id": "yX5YGfqFn3WK"
      },
      "outputs": [],
      "source": [
        "# TD(n) n-step SARSA on-policy using epsilon-greedy policy\n",
        "\n",
        "alpha = 0.1 #step size for incremental averaging\n",
        "gamma = 1 #discount factor\n",
        "n = 2 # number of steps\n",
        "epsilon = 0.1\n",
        "\n",
        "# formaulate the state space with every combination of the discritsized elements of the states\n",
        "states = itertools.product(np.arange(bins[0]), np.arange(bins[1]))\n",
        "\n",
        "policy = {}\n",
        "q = {}\n",
        "\n",
        "\n",
        "\n",
        "for state in states:\n",
        "  q[state] = np.zeros(env.action_space.n) # initialize the action-value function\n",
        "  policy[state] = np.full(((env.action_space.n)),epsilon/env.action_space.n) # initialize the policy\n",
        "  best_action = np.argmax(q[state])\n",
        "  policy[state][best_action] += 1 - epsilon # initialize a random policy\n",
        "\n",
        "\n",
        "\n"
      ]
    },
    {
      "cell_type": "code",
      "execution_count": 4,
      "metadata": {
        "colab": {
          "base_uri": "https://localhost:8080/"
        },
        "id": "EiU0z0AU4A1F",
        "outputId": "73242d11-59b6-4f05-9367-57d8b3b6ccf6"
      },
      "outputs": [
        {
          "name": "stderr",
          "output_type": "stream",
          "text": [
            "/usr/local/lib/python3.10/dist-packages/gym/utils/passive_env_checker.py:241: DeprecationWarning: `np.bool8` is a deprecated alias for `np.bool_`.  (Deprecated NumPy 1.24)\n",
            "  if not isinstance(terminated, (bool, np.bool8)):\n"
          ]
        },
        {
          "name": "stdout",
          "output_type": "stream",
          "text": [
            "Episode:  10000  time:  00:06:17\n",
            "Episode:  20000  time:  00:11:58\n",
            "Episode:  30000  time:  00:17:32\n",
            "Episode:  40000  time:  00:22:56\n",
            "Episode:  50000  time:  00:28:26\n",
            "done!\n"
          ]
        }
      ],
      "source": [
        "\n",
        "episodes = 5e4\n",
        "start_timer = time.time()\n",
        "episode = 1\n",
        "\n",
        "while episode < episodes:\n",
        "  episode_tracker = []\n",
        "\n",
        "  # reset the environment\n",
        "  obs = env.reset()\n",
        "  state = discretize_observation(obs) # discretize the observation\n",
        "  action = np.random.choice(np.arange(env.action_space.n), p = policy[state]) # select an action\n",
        "\n",
        "  episode_tracker.append([0,state,action])\n",
        "  T = float('inf') # terminal state\n",
        "\n",
        "  t = 0 #initialize the time-step counter t\n",
        "\n",
        "  while True:\n",
        "\n",
        "\n",
        "    if t<T:\n",
        "\n",
        "      obs, reward, done, info = env.step(action) # taking the action\n",
        "      next_state = discretize_observation(obs) # next state\n",
        "\n",
        "      episode_tracker.append([reward, next_state])\n",
        "\n",
        "      if done:\n",
        "        T = t+1\n",
        "      else:\n",
        "        action = np.random.choice(np.arange(env.action_space.n), p = policy[state]) # select an action\n",
        "        episode_tracker[-1].append(action)\n",
        "\n",
        "    tau = t - n + 1 # the time step whose state estimate is being updated (going n steps back)\n",
        "\n",
        "    if tau >= 0:\n",
        "      # compute the return\n",
        "      \n",
        "      G = sum([(gamma**(i-tau-1))*episode_tracker[i][0] for i in range(tau + 1, min(tau + n, T)+1)]) \n",
        "\n",
        "\n",
        "      if tau + n < T:\n",
        "        G += (gamma**n)*q[episode_tracker[tau + n][1]][episode_tracker[tau + n][2]] # compute the discounted return\n",
        "        \n",
        "      s = episode_tracker[tau][1]\n",
        "      a = episode_tracker[tau][2]\n",
        "      q[s][a] += alpha * (G - q[s][a]) # update the action-value function\n",
        "\n",
        "      policy[s] = np.full(((env.action_space.n)),epsilon/env.action_space.n) # update the policy\n",
        "      best_action = np.argmax(q[s])\n",
        "      policy[s][best_action] += 1-epsilon\n",
        "\n",
        "    if tau == T-1:  # when the update time reaches terminal state, break\n",
        "      break\n",
        "\n",
        "    state = next_state  # update the state\n",
        "\n",
        "    t += 1 # updating the time- step\n",
        "\n",
        "  episode += 1\n",
        "  if episode % 10000 == 0:\n",
        "    end_timer = time.time()\n",
        "    timer = end_timer - start_timer\n",
        "    elapsed_time_struct = time.gmtime(timer)\n",
        "    formatted_time = time.strftime(\"%H:%M:%S\", elapsed_time_struct)\n",
        "    print(\"Episode: \",episode, \" time: \", formatted_time)\n",
        "\n",
        "  if episode == episodes:\n",
        "    print(\"done!\")\n"
      ]
    },
    {
      "cell_type": "code",
      "execution_count": 5,
      "metadata": {
        "colab": {
          "base_uri": "https://localhost:8080/"
        },
        "id": "DhVaq4tNQ-5F",
        "outputId": "1a26f202-d06a-4780-943c-1a3f32d4b875"
      },
      "outputs": [
        {
          "name": "stdout",
          "output_type": "stream",
          "text": [
            "[148, 200, 165, 186, 182, 162, 166, 179, 200, 200, 157, 165, 189, 161, 200, 157, 169, 159, 200, 200, 175, 172, 200, 158, 166, 167, 162, 200, 180, 200, 200, 170, 158, 158, 161, 200, 165, 163, 156, 162, 200, 168, 200, 166, 200, 157, 168, 166, 161, 200, 163, 176, 177, 185, 200, 170, 164, 200, 163, 164, 184, 176, 162, 169, 162, 162, 200, 165, 187, 162, 170, 200, 163, 169, 200, 159, 162, 162, 166, 161, 168, 200, 172, 200, 200, 166, 163, 200, 200, 148, 166, 200, 161, 161, 155, 200, 172, 176, 158, 173]\n",
            "Average steps to solution per 100 episodes:  175.46\n"
          ]
        }
      ],
      "source": [
        "#test\n",
        "steps_to_solution = []\n",
        "\n",
        "for j in range(100):\n",
        "  obs = env.reset()\n",
        "  state = discretize_observation(obs)\n",
        "  for i in range(1,50000):\n",
        "    action = np.argmax(policy[state])\n",
        "    # print(\"step\",i, \"reward: \", reward,\" state: \", state,\" action=\",action)\n",
        "    obs, reward, done, info = env.step(action)\n",
        "    state = discretize_observation(obs)\n",
        "\n",
        "    if done:\n",
        "      #print (\"done\")\n",
        "      steps_to_solution.append(i)\n",
        "      break\n",
        "print(steps_to_solution)\n",
        "avg_step = np.mean(steps_to_solution)\n",
        "print(\"Average steps to solution per 100 episodes: \",avg_step)\n",
        "\n",
        "# ipythondisplay.clear_output(wait=True)\n",
        "env.close()"
      ]
    }
  ],
  "metadata": {
    "colab": {
      "provenance": []
    },
    "kernelspec": {
      "display_name": "Python 3",
      "name": "python3"
    },
    "language_info": {
      "name": "python"
    }
  },
  "nbformat": 4,
  "nbformat_minor": 0
}
