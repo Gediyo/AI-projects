{
  "cells": [
    {
      "cell_type": "markdown",
      "metadata": {
        "id": "JWh-byKz5A7Y"
      },
      "source": [
        "@author: Gediyon M. Girma\n",
        "\n",
        "Off-policy expected SARSA with a greedy control policy for MoutainCar environmnet"
      ]
    },
    {
      "cell_type": "code",
      "execution_count": 10,
      "metadata": {
        "colab": {
          "base_uri": "https://localhost:8080/"
        },
        "id": "l-RyLgtG4rIe",
        "outputId": "dd4e0a98-1a76-4dd4-f81c-d152d8164af0"
      },
      "outputs": [
        {
          "name": "stderr",
          "output_type": "stream",
          "text": [
            "/usr/local/lib/python3.10/dist-packages/gym/core.py:317: DeprecationWarning: \u001b[33mWARN: Initializing wrapper in old step API which returns one bool instead of two. It is recommended to set `new_step_api=True` to use new step API. This will be the default behaviour in future.\u001b[0m\n",
            "  deprecation(\n",
            "/usr/local/lib/python3.10/dist-packages/gym/wrappers/step_api_compatibility.py:39: DeprecationWarning: \u001b[33mWARN: Initializing environment in old step API which returns one bool instead of two. It is recommended to set `new_step_api=True` to use new step API. This will be the default behaviour in future.\u001b[0m\n",
            "  deprecation(\n"
          ]
        }
      ],
      "source": [
        "import gym\n",
        "import time\n",
        "import itertools\n",
        "import random\n",
        "import numpy as np\n",
        "env = gym.make('MountainCar-v0')"
      ]
    },
    {
      "cell_type": "code",
      "execution_count": 11,
      "metadata": {
        "id": "4j7hDavZ5I77"
      },
      "outputs": [],
      "source": [
        "# discretization of the observation space\n",
        "\n",
        "bins = (30, 30)\n",
        "\n",
        "def discretize_observation(observation):\n",
        "  \"\"\"\n",
        "  Discretizes the observation space.\n",
        "\n",
        "  Args:\n",
        "    observation: The observation to discretize.\n",
        "\n",
        "  Returns:\n",
        "    The discretized observation.\n",
        "  \"\"\"\n",
        "\n",
        "  low = env.observation_space.low\n",
        "  high = env.observation_space.high\n",
        "\n",
        "  return tuple(np.digitize(observation[i], np.linspace(low[i], high[i], bins[i] + 1)) - 1 for i in range(2))"
      ]
    },
    {
      "cell_type": "code",
      "execution_count": 12,
      "metadata": {
        "id": "L3-Byd3YzKNv"
      },
      "outputs": [],
      "source": [
        "#initialization\n",
        "# the off-policy SARSA with greedy control policy\n",
        "alpha = 0.1\n",
        "gamma = 1\n",
        "epsilon = 0.1\n",
        "\n",
        "# formaulate the state space with every combination of the discritsized elements of the states\n",
        "states = itertools.product(np.arange(bins[0]), np.arange(bins[1]))\n",
        "\n",
        "q={}\n",
        "policy = {}\n",
        "b = {}  # behavioural policy\n",
        "\n",
        "\n",
        "for state in states:\n",
        "  q[state] = np.zeros((env.action_space.n)) # initialize the action-value function\n",
        "\n",
        "  # initializing the epsilon-greedy policy with respect to the action-value function\n",
        "  b[state] = np.full(((env.action_space.n)),epsilon/env.action_space.n)\n",
        "  b[state][np.random.randint(3)] += 1-epsilon\n",
        "\n"
      ]
    },
    {
      "cell_type": "code",
      "execution_count": 13,
      "metadata": {
        "colab": {
          "base_uri": "https://localhost:8080/"
        },
        "id": "If8bdx1x5Lyq",
        "outputId": "3eb76557-b2d1-44a0-d406-cb54cf8bb0f1"
      },
      "outputs": [
        {
          "name": "stderr",
          "output_type": "stream",
          "text": [
            "/usr/local/lib/python3.10/dist-packages/gym/utils/passive_env_checker.py:241: DeprecationWarning: `np.bool8` is a deprecated alias for `np.bool_`.  (Deprecated NumPy 1.24)\n",
            "  if not isinstance(terminated, (bool, np.bool8)):\n"
          ]
        },
        {
          "name": "stdout",
          "output_type": "stream",
          "text": [
            "Episode:  10000  time:  00:06:05\n",
            "Episode:  20000  time:  00:11:25\n",
            "Episode:  30000  time:  00:16:31\n",
            "Episode:  40000  time:  00:21:32\n",
            "Episode:  50000  time:  00:26:29\n",
            "done!\n"
          ]
        }
      ],
      "source": [
        "\n",
        "\n",
        "episodes = 5e4\n",
        "start_timer = time.time()\n",
        "episode = 1\n",
        "while episode < episodes:\n",
        "\n",
        "  # reset the environment\n",
        "  obs = env.reset()\n",
        "  state = discretize_observation(obs) # discretize the observation\n",
        "\n",
        "  for t in range(1,201):\n",
        "    action = np.random.choice(np.arange(env.action_space.n), p = b[state]) # select an action\n",
        "    obs, reward, done, info = env.step(action)\n",
        "    next_state = discretize_observation(obs) # next state\n",
        "\n",
        "    # update the action-value function\n",
        "    q[state][action] += alpha * (reward + gamma * np.max(q[next_state]) - q[state][action]) # update the action-value function\n",
        "\n",
        "    # update the policy based on the action-value function\n",
        "    best_action = np.argmax(q[state]) # selecting the best action based on the action-value function\n",
        "    b[state] = np.full(((env.action_space.n)),epsilon/env.action_space.n) # resetting the policy for the given state\n",
        "    b[state][best_action] += 1 - epsilon # setting the probability of the best action to 1\n",
        "\n",
        "\n",
        "    state = next_state\n",
        "\n",
        "    # check if the episode is done\n",
        "    if done:\n",
        "      break\n",
        "\n",
        "\n",
        "  episode += 1\n",
        "  if episode % 10000 == 0:\n",
        "    end_timer = time.time()\n",
        "    timer = end_timer - start_timer\n",
        "    elapsed_time_struct = time.gmtime(timer)\n",
        "    formatted_time = time.strftime(\"%H:%M:%S\", elapsed_time_struct)\n",
        "    print(\"Episode: \",episode, \" time: \", formatted_time)\n",
        "\n",
        "  if episode == episodes:\n",
        "    print(\"done!\")\n",
        "\n",
        "\n",
        "# synthesyzing a policy from the final action-value function\n",
        "for state in states:\n",
        "  best_action = np.argmax(q[state])\n",
        "  policy[state] = np.zeros((env.action_space.n)) # initialize the policy\n",
        "  policy[state][best_action] += 1\n",
        "\n"
      ]
    },
    {
      "cell_type": "code",
      "execution_count": 17,
      "metadata": {
        "colab": {
          "base_uri": "https://localhost:8080/"
        },
        "id": "AoBZLsaAFpBl",
        "outputId": "583a768e-331c-43e1-a69d-51a065d50e79"
      },
      "outputs": [
        {
          "name": "stdout",
          "output_type": "stream",
          "text": [
            "[146, 175, 147, 144, 178, 145, 149, 185, 149, 147, 145, 175, 141, 200, 146, 146, 147, 175, 141, 148, 177, 177, 148, 151, 146, 177, 186, 176, 176, 148, 143, 147, 149, 200, 172, 200, 178, 176, 181, 148, 149, 145, 178, 148, 150, 146, 178, 145, 146, 149, 148, 148, 147, 144, 144, 181, 147, 146, 181, 142, 147, 148, 172, 175, 175, 147, 175, 146, 151, 148, 145, 145, 144, 141, 150, 149, 148, 146, 200, 150, 144, 145, 149, 149, 140, 145, 173, 145, 147, 175, 149, 178, 147, 144, 148, 177, 176, 148, 181, 146]\n",
            "Average steps to solution:  157.55\n"
          ]
        }
      ],
      "source": [
        "#test\n",
        "steps_to_solution = []\n",
        "\n",
        "for j in range(100):\n",
        "  obs = env.reset()\n",
        "  state = discretize_observation(obs)\n",
        "  for i in range(1,50000):\n",
        "    action = np.argmax(q[state])\n",
        "    # print(\"step\",i, \"reward: \", reward,\" state: \", state,\" action=\",action)\n",
        "    obs, reward, done, info = env.step(action)\n",
        "    state = discretize_observation(obs)\n",
        "\n",
        "    if done:\n",
        "      #print (\"done\")\n",
        "      steps_to_solution.append(i)\n",
        "      break\n",
        "print(steps_to_solution)\n",
        "avg_step = np.mean(steps_to_solution)\n",
        "print(\"Average steps to solution: \",avg_step)\n",
        "\n",
        "# ipythondisplay.clear_output(wait=True)\n",
        "env.close()"
      ]
    }
  ],
  "metadata": {
    "colab": {
      "provenance": []
    },
    "kernelspec": {
      "display_name": "Python 3",
      "name": "python3"
    },
    "language_info": {
      "name": "python"
    }
  },
  "nbformat": 4,
  "nbformat_minor": 0
}
